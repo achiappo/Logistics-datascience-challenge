{
 "cells": [
  {
   "cell_type": "markdown",
   "metadata": {},
   "source": [
    "# Problem \n",
    "\n",
    "Optimal passengers allocation to transport helicopters, maximising vehicle efficiency whilst being robust against uncertainty  \n",
    "\n",
    "Variables and conditions:  \n",
    "- 10 assets requiring maintainance  \n",
    "- 4 helicopters available of two capacities (15 and 25 passengers)  \n",
    "- normally distributed staff, with mean 60 and standard deviation 20  \n",
    "- passengers groupped in unsplittable teams of 1 to 8 members  \n",
    "- helicopters can fly to more than one location  \n",
    "- assets' staff demand varies uniformly every day  \n",
    "- multiple teams allocatable to each location  \n",
    "- no individual team allocatable to multiple locations  \n",
    "- negligible flight time   \n",
    "\n",
    "Additional aspects to consider:  \n",
    "- different importance/urgency of teams' task at each asset  \n",
    "- the presence of uncertainties  "
   ]
  },
  {
   "cell_type": "markdown",
   "metadata": {},
   "source": [
    "# Solution\n",
    "\n",
    "## Methodic\n",
    "\n",
    "The business question presents similarities with the _Knapsack problem_ of efficient allocation  \n",
    "of differently valued and sized items within fixed capacity containers. Given the additional  \n",
    "levels of complexity listed above, a solution can be obtained implementing an expanded and  \n",
    "\"recursive\" version of the [Knapsack Problem](https://en.wikipedia.org/wiki/Knapsack_problem). \n",
    "Below I summarise the various steps of this approach  \n",
    "1. **setting staff availability and assets' demand**: for a given day, characterise each asset's demand(s) and the staff availability.  \n",
    "Match the assets' demand(s) with the available staff to get the allocatable teams.  \n",
    "2. **recursive helicopter assignment**: construct and retain all possible teams allocation patterns.  \n",
    "Recursive application of the _Knapsack problem_ solution recipe until all aircrafts are occupied and/or the teams allocated.  \n",
    "Repetition of the procedure for different vehicle sequences, to find the teams allocation patterns yielding the highest value.  \n",
    "3. **optimal pattern selection**: apply conditions on assets' demands and teams' task to determine most efficient pattern.  \n",
    "Search for optimal pattern applying efficiency criteria (eg. largest number of teams assigned to smallest number of helicopters)\n",
    "\n",
    "## Pragmatic\n",
    "\n",
    "Exploring all possible allocation patterns by *brute force* approach: simulate various scenarios.  \n",
    "This approach can be summarised in the following steps.  \n",
    "1. **setting staff availability and assets' demand**: characterise daily asset's demand and staff availability.  \n",
    "2. **random teams allocation patterns generation**: simulate possible teams assignment to helicopters.  \n",
    "3. **highest scoring pattern selection**: retain the random pattern achieving the highest score.  \n",
    "\n",
    "#### uncertainties\n",
    "flight uncertainty = good weather probability at asset's location $\\times$ helicopter's functionality"
   ]
  },
  {
   "cell_type": "markdown",
   "metadata": {},
   "source": [
    "# Implementation: Methodic\n",
    "\n",
    "I present a numerical implementation of the methodic solution introduced above.\n",
    "\n",
    "## 1) Setting staff availability and assets' demand"
   ]
  },
  {
   "cell_type": "code",
   "execution_count": 23,
   "metadata": {},
   "outputs": [],
   "source": [
    "import numpy as np\n",
    "\n",
    "from Logistics import *\n",
    "\n",
    "ndays = 7    # number of days simulated\n",
    "ntasks = 7   # maximum number of daily tasks\n",
    "nvalues = 5  # number of task value classes\n",
    "nassets = 10 # number of assets\n",
    "teamsize = 8 # max teams size\n",
    "\n",
    "Helicopters = [15,25]*2   # helicopters capacity"
   ]
  },
  {
   "cell_type": "markdown",
   "metadata": {},
   "source": [
    "### assets' demands"
   ]
  },
  {
   "cell_type": "markdown",
   "metadata": {},
   "source": [
    "For every asset  \n",
    "- assign a _good weather_ probability\n",
    "- generate a number of requested tasks  \n",
    "- assign to each task an importance value   \n",
    "- assign to each task a requested staff number  "
   ]
  },
  {
   "cell_type": "markdown",
   "metadata": {},
   "source": [
    "Below an example of a possible set of daily demands:"
   ]
  },
  {
   "cell_type": "code",
   "execution_count": 24,
   "metadata": {
    "scrolled": false
   },
   "outputs": [
    {
     "data": {
      "text/plain": [
       "[{'a': 1, 'k': 1, 'v': 1, 's': 6, 'w': 0.2644572275157878},\n",
       " {'a': 1, 'k': 2, 'v': 5, 's': 8, 'w': 0.2644572275157878},\n",
       " {'a': 1, 'k': 3, 'v': 1, 's': 2, 'w': 0.2644572275157878},\n",
       " {'a': 1, 'k': 4, 'v': 1, 's': 4, 'w': 0.2644572275157878},\n",
       " {'a': 1, 'k': 5, 'v': 2, 's': 8, 'w': 0.2644572275157878},\n",
       " {'a': 2, 'k': 1, 'v': 4, 's': 7, 'w': 0.015762026848746058},\n",
       " {'a': 2, 'k': 2, 'v': 2, 's': 4, 'w': 0.015762026848746058},\n",
       " {'a': 2, 'k': 3, 'v': 2, 's': 8, 'w': 0.015762026848746058},\n",
       " {'a': 2, 'k': 4, 'v': 1, 's': 6, 'w': 0.015762026848746058},\n",
       " {'a': 2, 'k': 5, 'v': 5, 's': 1, 'w': 0.015762026848746058},\n",
       " {'a': 3, 'k': 1, 'v': 3, 's': 7, 'w': 0.2020319640862619},\n",
       " {'a': 3, 'k': 2, 'v': 2, 's': 8, 'w': 0.2020319640862619},\n",
       " {'a': 4, 'k': 1, 'v': 3, 's': 4, 'w': 0.32242385339696855},\n",
       " {'a': 4, 'k': 2, 'v': 2, 's': 4, 'w': 0.32242385339696855},\n",
       " {'a': 4, 'k': 3, 'v': 4, 's': 6, 'w': 0.32242385339696855},\n",
       " {'a': 4, 'k': 4, 'v': 3, 's': 5, 'w': 0.32242385339696855},\n",
       " {'a': 4, 'k': 5, 'v': 4, 's': 1, 'w': 0.32242385339696855},\n",
       " {'a': 5, 'k': 1, 'v': 1, 's': 4, 'w': 0.745409665618898},\n",
       " {'a': 5, 'k': 2, 'v': 5, 's': 2, 'w': 0.745409665618898},\n",
       " {'a': 5, 'k': 3, 'v': 5, 's': 2, 'w': 0.745409665618898},\n",
       " {'a': 5, 'k': 4, 'v': 2, 's': 6, 'w': 0.745409665618898},\n",
       " {'a': 6, 'k': 1, 'v': 4, 's': 6, 'w': 0.20296363973580334},\n",
       " {'a': 8, 'k': 1, 'v': 3, 's': 4, 'w': 0.7279939037903154},\n",
       " {'a': 8, 'k': 2, 'v': 1, 's': 8, 'w': 0.7279939037903154},\n",
       " {'a': 8, 'k': 3, 'v': 5, 's': 2, 'w': 0.7279939037903154},\n",
       " {'a': 8, 'k': 4, 'v': 2, 's': 7, 'w': 0.7279939037903154},\n",
       " {'a': 8, 'k': 5, 'v': 2, 's': 6, 'w': 0.7279939037903154},\n",
       " {'a': 9, 'k': 1, 'v': 1, 's': 6, 'w': 0.5713989052642764},\n",
       " {'a': 9, 'k': 2, 'v': 5, 's': 5, 'w': 0.5713989052642764},\n",
       " {'a': 9, 'k': 3, 'v': 5, 's': 4, 'w': 0.5713989052642764},\n",
       " {'a': 9, 'k': 4, 'v': 4, 's': 8, 'w': 0.5713989052642764},\n",
       " {'a': 10, 'k': 1, 'v': 4, 's': 2, 'w': 0.5329897506594516},\n",
       " {'a': 10, 'k': 2, 'v': 3, 's': 1, 'w': 0.5329897506594516},\n",
       " {'a': 10, 'k': 3, 'v': 3, 's': 2, 'w': 0.5329897506594516},\n",
       " {'a': 10, 'k': 4, 'v': 1, 's': 8, 'w': 0.5329897506594516},\n",
       " {'a': 10, 'k': 5, 'v': 5, 's': 3, 'w': 0.5329897506594516}]"
      ]
     },
     "execution_count": 24,
     "metadata": {},
     "output_type": "execute_result"
    }
   ],
   "source": [
    "asset_demand(nassets, ntasks, nvalues, teamsize)"
   ]
  },
  {
   "cell_type": "markdown",
   "metadata": {},
   "source": [
    "where:  \n",
    "- 'a' asset label  \n",
    "- 'k' task label  \n",
    "- 'v' task value label  \n",
    "- 's' team size requested  \n",
    "- 'w' good weather probability\n",
    "\n",
    "### staff availability\n",
    "\n",
    "Daily available staff: a (normally distributed) number, randomly split into different task value classes\n",
    "\n",
    "Below an example of a possible set of daily staff availability per task:"
   ]
  },
  {
   "cell_type": "code",
   "execution_count": 25,
   "metadata": {},
   "outputs": [
    {
     "data": {
      "text/plain": [
       "[{'v': 1, 's': 1},\n",
       " {'v': 2, 's': 27},\n",
       " {'v': 3, 's': 21},\n",
       " {'v': 4, 's': 7},\n",
       " {'v': 5, 's': 6}]"
      ]
     },
     "execution_count": 25,
     "metadata": {},
     "output_type": "execute_result"
    }
   ],
   "source": [
    "staff_available(nvalues)"
   ]
  },
  {
   "cell_type": "markdown",
   "metadata": {},
   "source": [
    "### teams formation\n",
    "\n",
    "Matching an asset's demand(s) with the staff available.  \n",
    "\n",
    "Below an example of the teams-matching outcome on a certain day"
   ]
  },
  {
   "cell_type": "code",
   "execution_count": 26,
   "metadata": {},
   "outputs": [
    {
     "name": "stdout",
     "output_type": "stream",
     "text": [
      "{'T': 'T_1', 'A': 'A_9', 'V': 1, 'S': 7, 'W': 0.6701904737985434, 'K': 'K_9_1'}\n",
      "{'T': 'T_2', 'A': 'A_8', 'V': 1, 'S': 6, 'W': 0.282567000792029, 'K': 'K_8_3'}\n",
      "{'T': 'T_3', 'A': 'A_4', 'V': 1, 'S': 5, 'W': 0.8225984980156964, 'K': 'K_4_4'}\n",
      "{'T': 'T_4', 'A': 'A_3', 'V': 1, 'S': 4, 'W': 0.26537336028453073, 'K': 'K_3_3'}\n",
      "{'T': 'T_5', 'A': 'A_5', 'V': 1, 'S': 3, 'W': 0.9560473747060789, 'K': 'K_5_1'}\n",
      "{'T': 'T_6', 'A': 'A_4', 'V': 3, 'S': 3, 'W': 0.8225984980156964, 'K': 'K_4_1'}\n",
      "{'T': 'T_7', 'A': 'A_8', 'V': 3, 'S': 2, 'W': 0.282567000792029, 'K': 'K_8_4'}\n",
      "{'T': 'T_8', 'A': 'A_3', 'V': 4, 'S': 8, 'W': 0.26537336028453073, 'K': 'K_3_1'}\n",
      "{'T': 'T_9', 'A': 'A_4', 'V': 4, 'S': 8, 'W': 0.8225984980156964, 'K': 'K_4_2'}\n",
      "{'T': 'T_10', 'A': 'A_2', 'V': 4, 'S': 3, 'W': 0.8077853516301693, 'K': 'K_2_2'}\n",
      "{'T': 'T_11', 'A': 'A_2', 'V': 5, 'S': 3, 'W': 0.8077853516301693, 'K': 'K_2_1'}\n"
     ]
    }
   ],
   "source": [
    "demand = asset_demand(nassets, ntasks, nvalues, teamsize)\n",
    "staff = staff_available(nvalues)\n",
    "\n",
    "teams, left = demand_staff_assign(demand, staff, nvalues)\n",
    "for t in teams:\n",
    "    print(t)"
   ]
  },
  {
   "cell_type": "markdown",
   "metadata": {},
   "source": [
    "## 2) Recursive helicopter assignment\n",
    "\n",
    "Teams allocation onto the helicopters. \n",
    "\n",
    "Below an example of the \"recursive\" application of the _Knapsack problem_ solution recipe on the available helicopters"
   ]
  },
  {
   "cell_type": "code",
   "execution_count": 28,
   "metadata": {
    "scrolled": true
   },
   "outputs": [
    {
     "name": "stdout",
     "output_type": "stream",
     "text": [
      "+----------+----------+-----------------+--------------------------------------------------------------+--------------------------------------------------------------+\n",
      "| pattern  | N teams  |  N helicopters  |                        teams (labels)                        |                       assets (labels)                        |\n",
      "+==========+==========+=================+==============================================================+==============================================================+\n",
      "|    1     |    8     |        3        | [['T_8', 'T_6', 'T_5'], ['T_7', 'T_4', 'T_3', 'T_2'],        | [['A_7', 'A_2', 'A_7'], ['A_8', 'A_4', 'A_8', 'A_8'],        |\n",
      "|          |          |                 | ['T_1']]                                                     | ['A_9']]                                                     |\n",
      "+----------+----------+-----------------+--------------------------------------------------------------+--------------------------------------------------------------+\n",
      "|    2     |    8     |        3        | [['T_8', 'T_6', 'T_5'], ['T_7', 'T_4', 'T_3', 'T_2'],        | [['A_7', 'A_2', 'A_7'], ['A_8', 'A_4', 'A_8', 'A_8'],        |\n",
      "|          |          |                 | ['T_1']]                                                     | ['A_9']]                                                     |\n",
      "+----------+----------+-----------------+--------------------------------------------------------------+--------------------------------------------------------------+\n",
      "|    3     |    8     |        3        | [['T_8', 'T_6', 'T_5'], ['T_7', 'T_4'], ['T_3', 'T_2',       | [['A_7', 'A_2', 'A_7'], ['A_8', 'A_4'], ['A_8', 'A_8',       |\n",
      "|          |          |                 | 'T_1']]                                                      | 'A_9']]                                                      |\n",
      "+----------+----------+-----------------+--------------------------------------------------------------+--------------------------------------------------------------+\n",
      "|    4     |    8     |        3        | [['T_8', 'T_7', 'T_6', 'T_5'], ['T_4', 'T_3'], ['T_2',       | [['A_7', 'A_8', 'A_2', 'A_7'], ['A_4', 'A_8'], ['A_8',       |\n",
      "|          |          |                 | 'T_1']]                                                      | 'A_9']]                                                      |\n",
      "+----------+----------+-----------------+--------------------------------------------------------------+--------------------------------------------------------------+\n",
      "|    5     |    8     |        3        | [['T_8', 'T_7', 'T_6', 'T_5'], ['T_4', 'T_3'], ['T_2',       | [['A_7', 'A_8', 'A_2', 'A_7'], ['A_4', 'A_8'], ['A_8',       |\n",
      "|          |          |                 | 'T_1']]                                                      | 'A_9']]                                                      |\n",
      "+----------+----------+-----------------+--------------------------------------------------------------+--------------------------------------------------------------+\n",
      "|    6     |    8     |        2        | [['T_8', 'T_7', 'T_6', 'T_5'], ['T_4', 'T_3', 'T_2', 'T_1']] | [['A_7', 'A_8', 'A_2', 'A_7'], ['A_4', 'A_8', 'A_8', 'A_9']] |\n",
      "+----------+----------+-----------------+--------------------------------------------------------------+--------------------------------------------------------------+\n"
     ]
    }
   ],
   "source": [
    "# simulate daily helicopters functionality \n",
    "Hfunc = np.random.rand(len(Helicopters))\n",
    "# simulate daily assets' demand(s)\n",
    "demand = asset_demand(nassets, ntasks, nvalues, teamsize)\n",
    "# simulate daily available staff\n",
    "staff = staff_available(nvalues)\n",
    "# match demands with staff to create teams\n",
    "Teams, left = demand_staff_assign(demand, staff, nvalues)\n",
    "# build possible allocation patterns\n",
    "Patterns = daily_teams_allocation(Helicopters, Hfunc, Teams)\n",
    "\n",
    "import texttable\n",
    "tab = texttable.Texttable()\n",
    "\n",
    "headings = ['pattern', 'N teams', 'N helicopters', 'teams (labels)', 'assets (labels)']\n",
    "tab.header(headings)\n",
    "\n",
    "NN = Patterns['N']\n",
    "AA = Patterns['A']\n",
    "TT = Patterns['T']\n",
    "\n",
    "for p in range(len(AA)):\n",
    "    N = NN[p]\n",
    "    h = [i for (i,a) in enumerate(AA[p]) if a]\n",
    "    A = [AA[p][j] for j in h]\n",
    "    T = [TT[p][j] for j in h]\n",
    "    tab.add_row([p+1, N, len(h), T, A])\n",
    "\n",
    "tab.set_cols_align(['c','c','c','l','l'])\n",
    "tab.set_cols_width([8,8,15,60,60])\n",
    "s = tab.draw()\n",
    "print(s)"
   ]
  },
  {
   "cell_type": "markdown",
   "metadata": {},
   "source": [
    "## 3) optimal pattern selection\n",
    "\n",
    "Systematically determine the optimal pattern among the possible ones by progressively applying conditions on their features.  \n",
    "\n",
    "#### maximum value patterns\n",
    "\n",
    "Determine the highest value patterns and neglect the others"
   ]
  },
  {
   "cell_type": "code",
   "execution_count": 29,
   "metadata": {},
   "outputs": [],
   "source": [
    "maxV_patterns, SV = max_value_patterns(Patterns)"
   ]
  },
  {
   "cell_type": "markdown",
   "metadata": {},
   "source": [
    "#### least helicopters used patterns\n",
    "\n",
    "Determine the patterns requiring the smallest number of helicopters and neglect the others"
   ]
  },
  {
   "cell_type": "code",
   "execution_count": 30,
   "metadata": {},
   "outputs": [],
   "source": [
    "minH_patterns, SH = least_helicopters_patterns(maxV_patterns)"
   ]
  },
  {
   "cell_type": "markdown",
   "metadata": {},
   "source": [
    "#### most teams allocated patterns\n",
    "\n",
    "Determine the patterns yielding the largest number of teams being allocated and neglect the others  \n",
    "(the action of this function is generally equivalent to that of `max_value_patterns`)"
   ]
  },
  {
   "cell_type": "code",
   "execution_count": 31,
   "metadata": {},
   "outputs": [],
   "source": [
    "maxN_patterns, SN = most_teams_patterns(minH_patterns)"
   ]
  },
  {
   "cell_type": "markdown",
   "metadata": {},
   "source": [
    "#### similar destinations patterns\n",
    "\n",
    "Determine the patterns scoring highest for assets' location homogeneity and neglect the others.  \n",
    "(eg. score of [3, 3, 3, 7, 7, 5] > score of [3, 4, 5, 6, 7, 8] )"
   ]
  },
  {
   "cell_type": "code",
   "execution_count": 32,
   "metadata": {},
   "outputs": [],
   "source": [
    "maxA_patterns, SA = similar_destinations_patterns(maxN_patterns)"
   ]
  },
  {
   "cell_type": "markdown",
   "metadata": {},
   "source": [
    "#### max probability patterns\n",
    "\n",
    "Determine the patterns scoring highest in flying probability and neglect the others.  \n",
    "(eg. score of [78%, 82%, 95%] > score of [48%, 52%, 75%] )"
   ]
  },
  {
   "cell_type": "code",
   "execution_count": 33,
   "metadata": {},
   "outputs": [],
   "source": [
    "maxP_patterns, SP = max_probability_patterns(maxA_patterns)"
   ]
  },
  {
   "cell_type": "markdown",
   "metadata": {},
   "source": [
    "Below the optimal pattern resulting from the determination process"
   ]
  },
  {
   "cell_type": "code",
   "execution_count": 34,
   "metadata": {},
   "outputs": [
    {
     "name": "stdout",
     "output_type": "stream",
     "text": [
      "+------------+-----------------+--------------------------------------------------------------+--------------------------------------------------------------+\n",
      "|  N teams   |  N helicopters  |                        teams (labels)                        |                       assets (labels)                        |\n",
      "+============+=================+==============================================================+==============================================================+\n",
      "|     8      |        2        | [['T_8', 'T_7', 'T_6', 'T_5'], ['T_4', 'T_3', 'T_2', 'T_1']] | [['A_7', 'A_8', 'A_2', 'A_7'], ['A_4', 'A_8', 'A_8', 'A_9']] |\n",
      "+------------+-----------------+--------------------------------------------------------------+--------------------------------------------------------------+\n"
     ]
    }
   ],
   "source": [
    "tab = texttable.Texttable()\n",
    "\n",
    "headings = ['N teams', 'N helicopters', 'teams (labels)', 'assets (labels)']\n",
    "tab.header(headings)\n",
    "\n",
    "NN = maxP_patterns['N'][0]\n",
    "AA = maxP_patterns['A'][0]\n",
    "TT = maxP_patterns['T'][0]\n",
    "\n",
    "h = [i for (i,a) in enumerate(AA) if a]\n",
    "H = len([Helicopters[j] for j in h])\n",
    "A = [AA[j] for j in h]\n",
    "T = [TT[j] for j in h]\n",
    "    \n",
    "tab.add_row([NN, H, T, A])\n",
    "\n",
    "tab.set_cols_align(['c','c','l','l'])\n",
    "tab.set_cols_width([10,15,60,60])\n",
    "s = tab.draw()\n",
    "print(s)"
   ]
  },
  {
   "cell_type": "markdown",
   "metadata": {},
   "source": [
    "### repeated application\n",
    "\n",
    "We can put all together and observe how this whole setup works for an entire week of operation"
   ]
  },
  {
   "cell_type": "code",
   "execution_count": 35,
   "metadata": {
    "scrolled": false
   },
   "outputs": [
    {
     "name": "stdout",
     "output_type": "stream",
     "text": [
      "+-----+-------+---------+------------------------------------------------------------------------+------------------------------------------------------------------------+\n",
      "| day | staff |  Score  |                             Teams (labels)                             |                            Assets (labels)                             |\n",
      "+=====+=======+=========+========================================================================+========================================================================+\n",
      "|  1  |  91   |  0.033  | [['T_15', 'T_14', 'T_13', 'T_10', 'T_4', 'T_3', 'T_2'], ['T_12',       | [['A_2', 'A_9', 'A_7', 'A_7', 'A_4', 'A_4', 'A_1'], ['A_4', 'A_9'],    |\n",
      "|     |       |         | 'T_9'], ['T_11', 'T_8'], ['T_7', 'T_6', 'T_5']]                        | ['A_3', 'A_2'], ['A_5', 'A_4', 'A_3']]                                 |\n",
      "+-----+-------+---------+------------------------------------------------------------------------+------------------------------------------------------------------------+\n",
      "|  2  |  88   |  0.018  | [['T_21', 'T_19', 'T_18', 'T_17', 'T_16', 'T_15', 'T_14', 'T_13',      | [['A_2', 'A_1', 'A_10', 'A_10', 'A_10', 'A_8', 'A_6', 'A_5', 'A_3',    |\n",
      "|     |       |         | 'T_12', 'T_11', 'T_10', 'T_9'], ['T_20', 'T_8'], ['T_7', 'T_6',        | 'A_3', 'A_8', 'A_4'], ['A_1', 'A_10'], ['A_5', 'A_4', 'A_5'], ['A_6',  |\n",
      "|     |       |         | 'T_4'], ['T_5', 'T_3', 'T_2']]                                         | 'A_5', 'A_5']]                                                         |\n",
      "+-----+-------+---------+------------------------------------------------------------------------+------------------------------------------------------------------------+\n",
      "|  3  |  55   |  1.308  | [['T_10', 'T_9', 'T_8'], ['T_7', 'T_6', 'T_5', 'T_4'], ['T_3', 'T_2',  | [['A_9', 'A_1', 'A_7'], ['A_4', 'A_4', 'A_9', 'A_8'], ['A_2', 'A_6',   |\n",
      "|     |       |         | 'T_1']]                                                                | 'A_1']]                                                                |\n",
      "+-----+-------+---------+------------------------------------------------------------------------+------------------------------------------------------------------------+\n",
      "|  4  |  58   |  2.226  | [['T_9', 'T_8', 'T_7'], ['T_6', 'T_5', 'T_4'], ['T_3', 'T_2', 'T_1']]  | [['A_9', 'A_3', 'A_7'], ['A_2', 'A_2', 'A_2'], ['A_2', 'A_10', 'A_4']] |\n",
      "+-----+-------+---------+------------------------------------------------------------------------+------------------------------------------------------------------------+\n",
      "|  5  |  74   |  0.038  | [['T_14', 'T_13', 'T_10', 'T_9'], ['T_12', 'T_11', 'T_8', 'T_7'],      | [['A_4', 'A_9', 'A_2', 'A_4'], ['A_7', 'A_7', 'A_4', 'A_1'], ['A_9',   |\n",
      "|     |       |         | ['T_6', 'T_5', 'T_4', 'T_2'], ['T_3', 'T_1']]                          | 'A_2', 'A_5', 'A_5'], ['A_3', 'A_3']]                                  |\n",
      "+-----+-------+---------+------------------------------------------------------------------------+------------------------------------------------------------------------+\n",
      "|  6  |  64   |  0.014  | [['T_11', 'T_10', 'T_8', 'T_7'], ['T_12', 'T_9', 'T_6', 'T_3'],        | [['A_2', 'A_9', 'A_10', 'A_5'], ['A_3', 'A_2', 'A_6', 'A_9'], ['A_10', |\n",
      "|     |       |         | ['T_5', 'T_4', 'T_2'], ['T_1']]                                        | 'A_7', 'A_7'], ['A_2']]                                                |\n",
      "+-----+-------+---------+------------------------------------------------------------------------+------------------------------------------------------------------------+\n",
      "|  7  |  39   |  1.121  | [['T_7', 'T_6', 'T_5', 'T_4', 'T_2'], ['T_3', 'T_1']]                  | [['A_1', 'A_7', 'A_6', 'A_9', 'A_5'], ['A_7', 'A_7']]                  |\n",
      "+-----+-------+---------+------------------------------------------------------------------------+------------------------------------------------------------------------+\n"
     ]
    }
   ],
   "source": [
    "tab = texttable.Texttable()\n",
    "\n",
    "headings = ['day', 'staff', 'Score', 'Teams (labels)', 'Assets (labels)']\n",
    "tab.header(headings)\n",
    "\n",
    "# simulate daily helicopters functionality \n",
    "Hfunc = np.random.rand(len(Helicopters))\n",
    "\n",
    "left = None\n",
    "for d in range(ndays):\n",
    "    demand = asset_demand(nassets, ntasks, nvalues, teamsize)\n",
    "    staff = staff_available(nvalues)\n",
    "    S = sum([st['s'] for st in staff])\n",
    "    teams, left = demand_staff_assign(demand, staff, nvalues, old=left)\n",
    "    Patterns = daily_teams_allocation(Helicopters, Hfunc, teams)\n",
    "    maxV_patterns, SV = max_value_patterns(Patterns)\n",
    "    minH_patterns, SH = least_helicopters_patterns(maxV_patterns)\n",
    "    maxN_patterns, SN = most_teams_patterns(minH_patterns)\n",
    "    maxA_patterns, SA = similar_destinations_patterns(maxN_patterns)\n",
    "    maxP_patterns, SP = max_probability_patterns(maxA_patterns)\n",
    "\n",
    "    A = maxP_patterns['A'][0]\n",
    "    T = maxP_patterns['T'][0]\n",
    "\n",
    "    h = [i for (i,a) in enumerate(A) if a]\n",
    "    A = [A[j] for j in h]\n",
    "    T = [T[j] for j in h]\n",
    "    \n",
    "    score = SV * SH * SN * SA * SP\n",
    "    tab.add_row([d+1, S, score, T, A])\n",
    "\n",
    "tab.set_cols_align(['c','c','c','l','l'])\n",
    "tab.set_cols_dtype(['i','i','e','a','a'])\n",
    "tab.set_cols_width([3,5,7,70,70])\n",
    "s = tab.draw()\n",
    "print (s)"
   ]
  },
  {
   "cell_type": "markdown",
   "metadata": {},
   "source": [
    "# Implementation: Pragmatic\n",
    "\n",
    "## 1) Setting staff availability and assets' demand\n",
    "\n",
    "This is equivalent to first step in the _Methodic_ solution presented above.  "
   ]
  },
  {
   "cell_type": "code",
   "execution_count": 36,
   "metadata": {},
   "outputs": [],
   "source": [
    "# simulate daily helicopters functionality \n",
    "Hfunc = np.random.rand(len(Helicopters))\n",
    "# simulate daily assets' demand(s)\n",
    "demand = asset_demand(nassets, ntasks, nvalues, teamsize)\n",
    "# simulate daily available staff\n",
    "staff = staff_available(nvalues)\n",
    "# match demands with staff to create teams\n",
    "Teams, left = demand_staff_assign(demand, staff, nvalues)"
   ]
  },
  {
   "cell_type": "markdown",
   "metadata": {},
   "source": [
    "## 2) random teams allocation patterns generation\n",
    "\n",
    "Teams allocation onto the helicopters.\n",
    "\n",
    "Below an example of the _brute-force_ random assignment to the available helicopters."
   ]
  },
  {
   "cell_type": "code",
   "execution_count": 39,
   "metadata": {},
   "outputs": [
    {
     "name": "stdout",
     "output_type": "stream",
     "text": [
      "+----+-------+------------------------------------------------------------------------+------------------------------------------------------------------------+\n",
      "| i  | Score |                             teams (labels)                             |                            assets (labels)                             |\n",
      "+====+=======+========================================================================+========================================================================+\n",
      "| 1  | 0.024 | [['T_1', 'T_2', 'T_3'], ['T_4', 'T_5', 'T_6', 'T_7', 'T_8', 'T_9',     | [['A_9', 'A_1', 'A_2'], ['A_6', 'A_7', 'A_6', 'A_4', 'A_7', 'A_6',     |\n",
      "|    |       | 'T_10']]                                                               | 'A_1']]                                                                |\n",
      "+----+-------+------------------------------------------------------------------------+------------------------------------------------------------------------+\n",
      "| 2  | 0.496 | [['T_1', 'T_5', 'T_8', 'T_3', 'T_10', 'T_4', 'T_2'], ['T_6', 'T_9',    | [['A_9', 'A_7', 'A_7', 'A_2', 'A_1', 'A_6', 'A_1'], ['A_6', 'A_6',     |\n",
      "|    |       | 'T_7']]                                                                | 'A_4']]                                                                |\n",
      "+----+-------+------------------------------------------------------------------------+------------------------------------------------------------------------+\n",
      "| 3  | 0.010 | [['T_2', 'T_9', 'T_8', 'T_4', 'T_7', 'T_5'], ['T_10', 'T_3', 'T_6',    | [['A_1', 'A_6', 'A_7', 'A_6', 'A_4', 'A_7'], ['A_1', 'A_2', 'A_6',     |\n",
      "|    |       | 'T_1']]                                                                | 'A_9']]                                                                |\n",
      "+----+-------+------------------------------------------------------------------------+------------------------------------------------------------------------+\n",
      "| 4  | 0.719 | [['T_9', 'T_8', 'T_4', 'T_3', 'T_6'], ['T_7', 'T_5', 'T_10', 'T_2',    | [['A_6', 'A_7', 'A_6', 'A_2', 'A_6'], ['A_4', 'A_7', 'A_1', 'A_1',     |\n",
      "|    |       | 'T_1']]                                                                | 'A_9']]                                                                |\n",
      "+----+-------+------------------------------------------------------------------------+------------------------------------------------------------------------+\n",
      "| 5  | 0.024 | [['T_4', 'T_8', 'T_9', 'T_1', 'T_10', 'T_5', 'T_3', 'T_6'], ['T_2',    | [['A_6', 'A_7', 'A_6', 'A_9', 'A_1', 'A_7', 'A_2', 'A_6'], ['A_1',     |\n",
      "|    |       | 'T_7']]                                                                | 'A_4']]                                                                |\n",
      "+----+-------+------------------------------------------------------------------------+------------------------------------------------------------------------+\n",
      "| 6  | 0.496 | [['T_7', 'T_4', 'T_5', 'T_8'], ['T_10', 'T_3', 'T_1', 'T_2', 'T_9',    | [['A_4', 'A_6', 'A_7', 'A_7'], ['A_1', 'A_2', 'A_9', 'A_1', 'A_6',     |\n",
      "|    |       | 'T_6']]                                                                | 'A_6']]                                                                |\n",
      "+----+-------+------------------------------------------------------------------------+------------------------------------------------------------------------+\n",
      "| 7  | 1.153 | [['T_2', 'T_8', 'T_10', 'T_5', 'T_9', 'T_4', 'T_6', 'T_3'], ['T_7',    | [['A_1', 'A_7', 'A_1', 'A_7', 'A_6', 'A_6', 'A_6', 'A_2'], ['A_4',     |\n",
      "|    |       | 'T_1']]                                                                | 'A_9']]                                                                |\n",
      "+----+-------+------------------------------------------------------------------------+------------------------------------------------------------------------+\n",
      "| 8  | 0.496 | [['T_6', 'T_4', 'T_5', 'T_2', 'T_1', 'T_8', 'T_10'], ['T_7', 'T_9',    | [['A_6', 'A_6', 'A_7', 'A_1', 'A_9', 'A_7', 'A_1'], ['A_4', 'A_6',     |\n",
      "|    |       | 'T_3']]                                                                | 'A_2']]                                                                |\n",
      "+----+-------+------------------------------------------------------------------------+------------------------------------------------------------------------+\n",
      "| 9  | 0.007 | [['T_9', 'T_8', 'T_3', 'T_10', 'T_4'], ['T_7', 'T_2', 'T_5'], ['T_1',  | [['A_6', 'A_7', 'A_2', 'A_1', 'A_6'], ['A_4', 'A_1', 'A_7'], ['A_9',   |\n",
      "|    |       | 'T_6']]                                                                | 'A_6']]                                                                |\n",
      "+----+-------+------------------------------------------------------------------------+------------------------------------------------------------------------+\n",
      "| 10 | 0.496 | [['T_8', 'T_9', 'T_4', 'T_3', 'T_5'], ['T_1', 'T_6', 'T_7', 'T_2',     | [['A_7', 'A_6', 'A_6', 'A_2', 'A_7'], ['A_9', 'A_6', 'A_4', 'A_1',     |\n",
      "|    |       | 'T_10']]                                                               | 'A_1']]                                                                |\n",
      "+----+-------+------------------------------------------------------------------------+------------------------------------------------------------------------+\n"
     ]
    }
   ],
   "source": [
    "tab = texttable.Texttable()\n",
    "\n",
    "headings = ['i', 'Score', 'teams (labels)', 'assets (labels)']\n",
    "tab.header(headings)\n",
    "\n",
    "Sarr, Harr, Tarr, Aarr = random_teams_allocator(Helicopters, Hfunc, Teams)\n",
    "\n",
    "for it in range(len(Sarr)):\n",
    "    score = Sarr[it]\n",
    "    TT = Tarr[it]\n",
    "    AA = Aarr[it]\n",
    "    \n",
    "    h = [i for (i,a) in enumerate(AA) if a]\n",
    "    A = [AA[j] for j in h]\n",
    "    T = [TT[j] for j in h]\n",
    "    \n",
    "    tab.add_row([it+1, score, T, A])\n",
    "\n",
    "tab.set_cols_align(['c','c','l','l'])\n",
    "tab.set_cols_dtype(['i','e','a','a'])\n",
    "tab.set_cols_width([2,5,70,70])\n",
    "s = tab.draw()\n",
    "print(s)"
   ]
  },
  {
   "cell_type": "markdown",
   "metadata": {},
   "source": [
    "## 3) highest scoring pattern selection \n",
    "\n",
    "Retain the higest scoring pattern among the ones obtained."
   ]
  },
  {
   "cell_type": "code",
   "execution_count": 40,
   "metadata": {},
   "outputs": [
    {
     "name": "stdout",
     "output_type": "stream",
     "text": [
      "+----+-------+------------------------------------------------------------------------+------------------------------------------------------------------------+\n",
      "| i  | Score |                             teams (labels)                             |                            assets (labels)                             |\n",
      "+====+=======+========================================================================+========================================================================+\n",
      "| 7  | 1.153 | [['T_2', 'T_8', 'T_10', 'T_5', 'T_9', 'T_4', 'T_6', 'T_3'], ['T_7',    | [['A_1', 'A_7', 'A_1', 'A_7', 'A_6', 'A_6', 'A_6', 'A_2'], ['A_4',     |\n",
      "|    |       | 'T_1']]                                                                | 'A_9']]                                                                |\n",
      "+----+-------+------------------------------------------------------------------------+------------------------------------------------------------------------+\n"
     ]
    }
   ],
   "source": [
    "ind_max = np.where(Sarr==max(Sarr))[0][0]\n",
    "\n",
    "tab = texttable.Texttable()\n",
    "\n",
    "headings = ['i', 'Score', 'teams (labels)', 'assets (labels)']\n",
    "tab.header(headings)\n",
    "\n",
    "Sbest = Sarr[ind_max] \n",
    "Hbest = Harr[ind_max] \n",
    "Tbest = Tarr[ind_max]\n",
    "Abest = Aarr[ind_max]\n",
    "\n",
    "h = [i for (i,a) in enumerate(Abest) if a]\n",
    "A = [Abest[j] for j in h]\n",
    "T = [Tbest[j] for j in h]\n",
    "\n",
    "tab.add_row([ind_max+1, Sbest, T, A])\n",
    "\n",
    "tab.set_cols_align(['c','c','l','l'])\n",
    "tab.set_cols_width([2,5,70,70])\n",
    "s = tab.draw()\n",
    "print(s)"
   ]
  },
  {
   "cell_type": "markdown",
   "metadata": {},
   "source": [
    "# Reliability & Efficiency\n",
    "\n",
    "## Efficiency\n",
    "Compare the efficiency of the _Methodic_ and Pragmatic_ approaches.  \n",
    "\n",
    "First, let's derive a reference pattern using the methodic approach introduced"
   ]
  },
  {
   "cell_type": "code",
   "execution_count": 41,
   "metadata": {},
   "outputs": [],
   "source": [
    "# simulate daily assets' demand(s)\n",
    "demand = asset_demand(nassets, ntasks, nvalues, teamsize)\n",
    "# simulate daily available staff\n",
    "staff = staff_available(nvalues)\n",
    "# match demands with staff to create teams\n",
    "Teams, left = demand_staff_assign(demand, staff, nvalues)\n",
    "# simulate daily helicopters functionality\n",
    "Hfunc = np.random.rand(len(Helicopters))\n",
    "# build possible allocation patterns\n",
    "Patterns = daily_teams_allocation(Helicopters, Hfunc, Teams)\n",
    "# get maximum value patterns and corresponding score\n",
    "maxV_patterns, SV = max_value_patterns(Patterns)\n",
    "# get smallest number of used helicopters patterns and corresponding score\n",
    "minH_patterns, SH = least_helicopters_patterns(maxV_patterns)\n",
    "# get largest allocated teams patterns and corresponding score\n",
    "maxN_patterns, SN = most_teams_patterns(minH_patterns)\n",
    "# get most destination efficient patterns and corresponding score\n",
    "maxA_patterns, SA = similar_destinations_patterns(maxN_patterns)\n",
    "# get highest chances pattern and corresponding score\n",
    "maxP_patterns, SP = max_probability_patterns(maxA_patterns)\n",
    "\n",
    "A = maxP_patterns['A'][0]\n",
    "T = maxP_patterns['T'][0]\n",
    "\n",
    "h = [i for (i,a) in enumerate(A) if a]\n",
    "H = [Helicopters[j] for j in h]\n",
    "A = [A[j] for j in h]\n",
    "T = [T[j] for j in h]\n",
    "\n",
    "score = SV * SH * SN * SA * SP\n",
    "score_ref, T_ref, A_ref = score, T, A"
   ]
  },
  {
   "cell_type": "markdown",
   "metadata": {},
   "source": [
    "Now compare the performance of the _Methodic_ solution with the _Pragmatic_ (random) one"
   ]
  },
  {
   "cell_type": "code",
   "execution_count": 42,
   "metadata": {},
   "outputs": [
    {
     "name": "stdout",
     "output_type": "stream",
     "text": [
      "Reference (Methodic)\n",
      "+-----+--------+------------------------------------------------------------------------+------------------------------------------------------------------------+\n",
      "|  i  | Score  |                             teams (labels)                             |                            assets (labels)                             |\n",
      "+=====+========+========================================================================+========================================================================+\n",
      "| Ref | 13.189 | [['T_5', 'T_4', 'T_3', 'T_2'], ['T_1']]                                | [['A_4', 'A_2', 'A_2', 'A_6'], ['A_6']]                                |\n",
      "+-----+--------+------------------------------------------------------------------------+------------------------------------------------------------------------+\n",
      "\n",
      "Random iterations\n",
      "+-----+--------+------------------------------------------------------------------------+------------------------------------------------------------------------+\n",
      "|  i  | Score  |                             teams (labels)                             |                            assets (labels)                             |\n",
      "+=====+========+========================================================================+========================================================================+\n",
      "|  1  | 2.936  | [['T_1', 'T_2'], ['T_3', 'T_4', 'T_5']]                                | [['A_6', 'A_6'], ['A_2', 'A_2', 'A_4']]                                |\n",
      "+-----+--------+------------------------------------------------------------------------+------------------------------------------------------------------------+\n",
      "|  2  | 1.336  | [['T_3', 'T_1', 'T_4', 'T_5'], ['T_2']]                                | [['A_2', 'A_6', 'A_2', 'A_4'], ['A_6']]                                |\n",
      "+-----+--------+------------------------------------------------------------------------+------------------------------------------------------------------------+\n",
      "|  3  | 1.727  | [['T_3', 'T_5', 'T_2', 'T_1'], ['T_4']]                                | [['A_2', 'A_4', 'A_6', 'A_6'], ['A_2']]                                |\n",
      "+-----+--------+------------------------------------------------------------------------+------------------------------------------------------------------------+\n",
      "|  4  | 1.336  | [['T_4', 'T_5', 'T_1', 'T_3'], ['T_2']]                                | [['A_2', 'A_4', 'A_6', 'A_2'], ['A_6']]                                |\n",
      "+-----+--------+------------------------------------------------------------------------+------------------------------------------------------------------------+\n",
      "|  5  | 0.437  | [['T_1', 'T_3'], ['T_2', 'T_5', 'T_4']]                                | [['A_6', 'A_2'], ['A_6', 'A_4', 'A_2']]                                |\n",
      "+-----+--------+------------------------------------------------------------------------+------------------------------------------------------------------------+\n",
      "|  6  | 0.437  | [['T_3', 'T_2'], ['T_4', 'T_1', 'T_5']]                                | [['A_2', 'A_6'], ['A_2', 'A_6', 'A_4']]                                |\n",
      "+-----+--------+------------------------------------------------------------------------+------------------------------------------------------------------------+\n",
      "|  7  | 1.336  | [['T_3', 'T_5', 'T_4', 'T_2'], ['T_1']]                                | [['A_2', 'A_4', 'A_2', 'A_6'], ['A_6']]                                |\n",
      "+-----+--------+------------------------------------------------------------------------+------------------------------------------------------------------------+\n",
      "|  8  | 1.727  | [['T_4', 'T_5'], ['T_1', 'T_3', 'T_2']]                                | [['A_2', 'A_4'], ['A_6', 'A_2', 'A_6']]                                |\n",
      "+-----+--------+------------------------------------------------------------------------+------------------------------------------------------------------------+\n",
      "|  9  | 1.727  | [['T_3', 'T_1', 'T_2', 'T_5'], ['T_4']]                                | [['A_2', 'A_6', 'A_6', 'A_4'], ['A_2']]                                |\n",
      "+-----+--------+------------------------------------------------------------------------+------------------------------------------------------------------------+\n",
      "| 10  | 0.437  | [['T_2', 'T_4'], ['T_5', 'T_3', 'T_1']]                                | [['A_6', 'A_2'], ['A_4', 'A_2', 'A_6']]                                |\n",
      "+-----+--------+------------------------------------------------------------------------+------------------------------------------------------------------------+\n"
     ]
    }
   ],
   "source": [
    "tab1 = texttable.Texttable()\n",
    "\n",
    "headings = ['i', 'Score', 'teams (labels)', 'assets (labels)']\n",
    "tab1.header(headings)\n",
    "\n",
    "tab1.add_row(['Ref', score_ref, T_ref, A_ref])\n",
    "\n",
    "tab1.set_cols_align(['c','c','l','l'])\n",
    "tab1.set_cols_width([3,6,70,70])\n",
    "s = tab1.draw()\n",
    "print('Reference (Methodic)')\n",
    "print(s)\n",
    "print()\n",
    "\n",
    "tab2 = texttable.Texttable()\n",
    "\n",
    "headings = ['i', 'Score', 'teams (labels)', 'assets (labels)']\n",
    "tab2.header(headings)\n",
    "\n",
    "Sarr, Harr, Tarr, Aarr = random_teams_allocator(Helicopters, Hfunc, Teams)\n",
    "\n",
    "for it in range(len(Sarr)):\n",
    "    score = Sarr[it]\n",
    "    TT = Tarr[it]\n",
    "    AA = Aarr[it]\n",
    "    \n",
    "    h = [i for (i,a) in enumerate(AA) if a]\n",
    "    A = [AA[j] for j in h]\n",
    "    T = [TT[j] for j in h]\n",
    "    \n",
    "    tab2.add_row([it+1, score, T, A])\n",
    "\n",
    "tab2.set_cols_align(['c','c','l','l'])\n",
    "tab2.set_cols_width([3,6,70,70])\n",
    "s = tab2.draw()\n",
    "print('Random iterations')\n",
    "print(s)"
   ]
  },
  {
   "cell_type": "markdown",
   "metadata": {},
   "source": [
    "Increase number of aircrafts to better visualise differences in efficiency"
   ]
  },
  {
   "cell_type": "code",
   "execution_count": 43,
   "metadata": {},
   "outputs": [],
   "source": [
    "Helicopters = Helicopters*2"
   ]
  },
  {
   "cell_type": "code",
   "execution_count": 44,
   "metadata": {},
   "outputs": [],
   "source": [
    "# simulate daily assets' demand(s)\n",
    "demand = asset_demand(nassets, ntasks, nvalues, teamsize)\n",
    "# simulate daily available staff\n",
    "staff = staff_available(nvalues)\n",
    "# match demands with staff to create teams\n",
    "Teams, left = demand_staff_assign(demand, staff, nvalues)\n",
    "# simulate daily helicopters functionality\n",
    "Hfunc = np.random.rand(len(Helicopters))\n",
    "# build possible allocation patterns\n",
    "Patterns = daily_teams_allocation(Helicopters, Hfunc, Teams)\n",
    "# get maximum value patterns and corresponding score\n",
    "maxV_patterns, SV = max_value_patterns(Patterns)\n",
    "# get smallest number of used helicopters patterns and corresponding score\n",
    "minH_patterns, SH = least_helicopters_patterns(maxV_patterns)\n",
    "# get largest allocated teams patterns and corresponding score\n",
    "maxN_patterns, SN = most_teams_patterns(minH_patterns)\n",
    "# get most destination efficient patterns and corresponding score\n",
    "maxA_patterns, SA = similar_destinations_patterns(maxN_patterns)\n",
    "# get highest chances pattern and corresponding score\n",
    "maxP_patterns, SP = max_probability_patterns(maxA_patterns)\n",
    "\n",
    "A = maxP_patterns['A'][0]\n",
    "T = maxP_patterns['T'][0]\n",
    "\n",
    "h = [i for (i,a) in enumerate(A) if a]\n",
    "H = [Helicopters[j] for j in h]\n",
    "A = [A[j] for j in h]\n",
    "T = [T[j] for j in h]\n",
    "\n",
    "score = SV * SH * SN * SA * SP\n",
    "score_ref, T_ref, A_ref = score, T, A"
   ]
  },
  {
   "cell_type": "markdown",
   "metadata": {},
   "source": [
    "Now compare the performance of the _Methodic_ solution with the _Pragmatic_ (random) one"
   ]
  },
  {
   "cell_type": "code",
   "execution_count": 45,
   "metadata": {},
   "outputs": [
    {
     "name": "stdout",
     "output_type": "stream",
     "text": [
      "Reference (Methodic)\n",
      "+-----+--------+------------------------------------------------------------------------+------------------------------------------------------------------------+\n",
      "|  i  | Score  |                             teams (labels)                             |                            assets (labels)                             |\n",
      "+=====+========+========================================================================+========================================================================+\n",
      "| Ref | 0.004  | [['T_14', 'T_13', 'T_12', 'T_11', 'T_10', 'T_6'], ['T_9', 'T_8',       | [['A_6', 'A_4', 'A_1', 'A_6', 'A_4', 'A_7'], ['A_3', 'A_10', 'A_4',    |\n",
      "|     |        | 'T_7', 'T_5', 'T_4', 'T_3'], ['T_2', 'T_1']]                           | 'A_7', 'A_6', 'A_7'], ['A_1', 'A_8']]                                  |\n",
      "+-----+--------+------------------------------------------------------------------------+------------------------------------------------------------------------+\n",
      "\n",
      "Random iterations\n",
      "+-----+--------+------------------------------------------------------------------------+------------------------------------------------------------------------+\n",
      "|  i  | Score  |                             teams (labels)                             |                            assets (labels)                             |\n",
      "+=====+========+========================================================================+========================================================================+\n",
      "|  1  | 0.000  | [['T_1', 'T_2'], ['T_3', 'T_4', 'T_5', 'T_6', 'T_7', 'T_8', 'T_9',     | [['A_8', 'A_1'], ['A_7', 'A_6', 'A_7', 'A_7', 'A_4', 'A_10', 'A_3',    |\n",
      "|     |        | 'T_13'], ['T_10', 'T_11'], ['T_12', 'T_14']]                           | 'A_4'], ['A_4', 'A_6'], ['A_1', 'A_6']]                                |\n",
      "+-----+--------+------------------------------------------------------------------------+------------------------------------------------------------------------+\n",
      "|  2  | 0.000  | [['T_12', 'T_8', 'T_1', 'T_5', 'T_11'], ['T_13', 'T_4', 'T_7', 'T_3',  | [['A_1', 'A_10', 'A_8', 'A_7', 'A_6'], ['A_4', 'A_6', 'A_4', 'A_7',    |\n",
      "|     |        | 'T_9', 'T_14', 'T_6'], ['T_10', 'T_2']]                                | 'A_3', 'A_6', 'A_7'], ['A_4', 'A_1']]                                  |\n",
      "+-----+--------+------------------------------------------------------------------------+------------------------------------------------------------------------+\n",
      "|  3  | 0.000  | [['T_10', 'T_12', 'T_8'], ['T_2', 'T_11', 'T_9', 'T_13', 'T_3'],       | [['A_4', 'A_1', 'A_10'], ['A_1', 'A_6', 'A_3', 'A_4', 'A_7'], ['A_7',  |\n",
      "|     |        | ['T_6', 'T_7', 'T_5', 'T_14', 'T_4'], ['T_1']]                         | 'A_4', 'A_7', 'A_6', 'A_6'], ['A_8']]                                  |\n",
      "+-----+--------+------------------------------------------------------------------------+------------------------------------------------------------------------+\n",
      "|  4  | 0.000  | [['T_2', 'T_1'], ['T_12', 'T_3', 'T_14', 'T_8', 'T_13'], ['T_11',      | [['A_1', 'A_8'], ['A_1', 'A_7', 'A_6', 'A_10', 'A_4'], ['A_6', 'A_4',  |\n",
      "|     |        | 'T_10', 'T_7', 'T_4', 'T_5'], ['T_6', 'T_9']]                          | 'A_4', 'A_6', 'A_7'], ['A_7', 'A_3']]                                  |\n",
      "+-----+--------+------------------------------------------------------------------------+------------------------------------------------------------------------+\n",
      "|  5  | 0.000  | [['T_6', 'T_11', 'T_2', 'T_14', 'T_5', 'T_8', 'T_4', 'T_13'], ['T_7',  | [['A_7', 'A_6', 'A_1', 'A_6', 'A_7', 'A_10', 'A_6', 'A_4'], ['A_4',    |\n",
      "|     |        | 'T_1'], ['T_9', 'T_12'], ['T_3', 'T_10']]                              | 'A_8'], ['A_3', 'A_1'], ['A_7', 'A_4']]                                |\n",
      "+-----+--------+------------------------------------------------------------------------+------------------------------------------------------------------------+\n",
      "|  6  | 0.000  | [['T_3', 'T_13', 'T_6', 'T_7', 'T_2', 'T_14', 'T_8'], ['T_11', 'T_12', | [['A_7', 'A_4', 'A_7', 'A_4', 'A_1', 'A_6', 'A_10'], ['A_6', 'A_1',    |\n",
      "|     |        | 'T_9', 'T_4', 'T_5'], ['T_10', 'T_1']]                                 | 'A_3', 'A_6', 'A_7'], ['A_4', 'A_8']]                                  |\n",
      "+-----+--------+------------------------------------------------------------------------+------------------------------------------------------------------------+\n",
      "|  7  | 0.002  | [['T_9', 'T_3', 'T_13', 'T_6', 'T_11', 'T_14', 'T_5'], ['T_10',        | [['A_3', 'A_7', 'A_4', 'A_7', 'A_6', 'A_6', 'A_7'], ['A_4', 'A_4'],    |\n",
      "|     |        | 'T_7'], ['T_8', 'T_4', 'T_12', 'T_1', 'T_2']]                          | ['A_10', 'A_6', 'A_1', 'A_8', 'A_1']]                                  |\n",
      "+-----+--------+------------------------------------------------------------------------+------------------------------------------------------------------------+\n",
      "|  8  | 0.000  | [['T_13', 'T_11', 'T_4', 'T_6', 'T_14', 'T_1', 'T_3'], ['T_10',        | [['A_4', 'A_6', 'A_6', 'A_7', 'A_6', 'A_8', 'A_7'], ['A_4', 'A_3'],    |\n",
      "|     |        | 'T_9'], ['T_7', 'T_8', 'T_12'], ['T_2', 'T_5']]                        | ['A_4', 'A_10', 'A_1'], ['A_1', 'A_7']]                                |\n",
      "+-----+--------+------------------------------------------------------------------------+------------------------------------------------------------------------+\n",
      "|  9  | 0.000  | [['T_14', 'T_2', 'T_3', 'T_5', 'T_4', 'T_8', 'T_13', 'T_6'], ['T_1',   | [['A_6', 'A_1', 'A_7', 'A_7', 'A_6', 'A_10', 'A_4', 'A_7'], ['A_8',    |\n",
      "|     |        | 'T_12'], ['T_9', 'T_10'], ['T_7', 'T_11']]                             | 'A_1'], ['A_3', 'A_4'], ['A_4', 'A_6']]                                |\n",
      "+-----+--------+------------------------------------------------------------------------+------------------------------------------------------------------------+\n",
      "| 10  | 0.000  | [['T_12', 'T_2', 'T_11', 'T_14', 'T_13', 'T_6'], ['T_1', 'T_3', 'T_8', | [['A_1', 'A_1', 'A_6', 'A_6', 'A_4', 'A_7'], ['A_8', 'A_7', 'A_10',    |\n",
      "|     |        | 'T_4'], ['T_9', 'T_7'], ['T_5', 'T_10']]                               | 'A_6'], ['A_3', 'A_4'], ['A_7', 'A_4']]                                |\n",
      "+-----+--------+------------------------------------------------------------------------+------------------------------------------------------------------------+\n"
     ]
    }
   ],
   "source": [
    "tab1 = texttable.Texttable()\n",
    "\n",
    "headings = ['i', 'Score', 'teams (labels)', 'assets (labels)']\n",
    "tab1.header(headings)\n",
    "\n",
    "tab1.add_row(['Ref', score_ref, T_ref, A_ref])\n",
    "\n",
    "tab1.set_cols_align(['c','c','l','l'])\n",
    "tab1.set_cols_width([3,6,70,70])\n",
    "s = tab1.draw()\n",
    "print('Reference (Methodic)')\n",
    "print(s)\n",
    "print()\n",
    "\n",
    "tab2 = texttable.Texttable()\n",
    "\n",
    "headings = ['i', 'Score', 'teams (labels)', 'assets (labels)']\n",
    "tab2.header(headings)\n",
    "\n",
    "Sarr, Harr, Tarr, Aarr = random_teams_allocator(Helicopters, Hfunc, Teams)\n",
    "\n",
    "for it in range(len(Sarr)):\n",
    "    score = Sarr[it]\n",
    "    TT = Tarr[it]\n",
    "    AA = Aarr[it]\n",
    "    \n",
    "    h = [i for (i,a) in enumerate(AA) if a]\n",
    "    A = [AA[j] for j in h]\n",
    "    T = [TT[j] for j in h]\n",
    "    \n",
    "    tab2.add_row([it+1, score, T, A])\n",
    "\n",
    "tab2.set_cols_align(['c','c','l','l'])\n",
    "tab2.set_cols_width([3,6,70,70])\n",
    "s = tab2.draw()\n",
    "print('Random iterations')\n",
    "print(s)"
   ]
  },
  {
   "cell_type": "markdown",
   "metadata": {},
   "source": [
    "## Reliability \n",
    "\n",
    "### Differing values choices \n",
    "\n",
    "Assess robustness of the method for different choices of `ntasks` and `nvalues`"
   ]
  },
  {
   "cell_type": "code",
   "execution_count": 21,
   "metadata": {},
   "outputs": [],
   "source": [
    "# reset the helicopters' capacity to the original values\n",
    "Helicopters = [15,25]*2"
   ]
  },
  {
   "cell_type": "code",
   "execution_count": 46,
   "metadata": {},
   "outputs": [
    {
     "name": "stdout",
     "output_type": "stream",
     "text": [
      "+---------+------------------------------------------------------------------------+------------------------------------------------------------------------+\n",
      "|  score  |                             teams (labels)                             |                            assets (labels)                             |\n",
      "+=========+========================================================================+========================================================================+\n",
      "|  0.655  | [['T_6', 'T_5', 'T_4'], ['T_3', 'T_2', 'T_1']]                         | [['A_9', 'A_5', 'A_7'], ['A_3', 'A_10', 'A_10']]                       |\n",
      "+---------+------------------------------------------------------------------------+------------------------------------------------------------------------+\n",
      "|  4.215  | [['T_8', 'T_7', 'T_6', 'T_5', 'T_4', 'T_3'], ['T_2', 'T_1']]           | [['A_9', 'A_1', 'A_8', 'A_2', 'A_10', 'A_7'], ['A_2', 'A_6']]          |\n",
      "+---------+------------------------------------------------------------------------+------------------------------------------------------------------------+\n",
      "| 11.188  | [['T_5', 'T_4', 'T_3', 'T_2', 'T_1']]                                  | [['A_9', 'A_5', 'A_2', 'A_7', 'A_9']]                                  |\n",
      "+---------+------------------------------------------------------------------------+------------------------------------------------------------------------+\n",
      "|  0.201  | [['T_17', 'T_16', 'T_15', 'T_13', 'T_12', 'T_11', 'T_10', 'T_9',       | [['A_3', 'A_3', 'A_9', 'A_3', 'A_3', 'A_1', 'A_1', 'A_8', 'A_5'],      |\n",
      "|         | 'T_8'], ['T_14', 'T_7', 'T_6', 'T_5'], ['T_4', 'T_3', 'T_2', 'T_1']]   | ['A_1', 'A_8', 'A_10', 'A_8'], ['A_6', 'A_7', 'A_7', 'A_7']]           |\n",
      "+---------+------------------------------------------------------------------------+------------------------------------------------------------------------+\n",
      "|  0.002  | [['T_14', 'T_13', 'T_12', 'T_11', 'T_10', 'T_9', 'T_8'], ['T_7',       | [['A_8', 'A_10', 'A_4', 'A_5', 'A_8', 'A_9', 'A_8'], ['A_9', 'A_2',    |\n",
      "|         | 'T_6', 'T_5', 'T_4', 'T_3'], ['T_2', 'T_1']]                           | 'A_9', 'A_9', 'A_4'], ['A_3', 'A_2']]                                  |\n",
      "+---------+------------------------------------------------------------------------+------------------------------------------------------------------------+\n",
      "|  0.002  | [['T_12', 'T_11', 'T_10', 'T_9', 'T_8', 'T_7', 'T_6', 'T_5'], ['T_4',  | [['A_4', 'A_7', 'A_5', 'A_3', 'A_10', 'A_4', 'A_3', 'A_4'], ['A_9',    |\n",
      "|         | 'T_3', 'T_2', 'T_1']]                                                  | 'A_4', 'A_9', 'A_7']]                                                  |\n",
      "+---------+------------------------------------------------------------------------+------------------------------------------------------------------------+\n",
      "| 75.399  | [['T_18', 'T_17', 'T_16', 'T_15', 'T_10', 'T_9', 'T_8', 'T_7'],        | [['A_2', 'A_4', 'A_4', 'A_2', 'A_5', 'A_2', 'A_5', 'A_2'], ['A_5',     |\n",
      "|         | ['T_14', 'T_13', 'T_12', 'T_1'], ['T_11', 'T_6', 'T_5', 'T_4'],        | 'A_4', 'A_2', 'A_5'], ['A_2', 'A_5', 'A_6', 'A_1'], ['A_7', 'A_6']]    |\n",
      "|         | ['T_3', 'T_2']]                                                        |                                                                        |\n",
      "+---------+------------------------------------------------------------------------+------------------------------------------------------------------------+\n",
      "|  0.009  | [['T_7', 'T_6', 'T_4', 'T_2'], ['T_5', 'T_3', 'T_1']]                  | [['A_2', 'A_5', 'A_5', 'A_6'], ['A_6', 'A_1', 'A_3']]                  |\n",
      "+---------+------------------------------------------------------------------------+------------------------------------------------------------------------+\n",
      "|  0.005  | [['T_11', 'T_10', 'T_9', 'T_8', 'T_7', 'T_6', 'T_5', 'T_4'], ['T_3',   | [['A_8', 'A_3', 'A_5', 'A_2', 'A_5', 'A_6', 'A_5', 'A_4'], ['A_8',     |\n",
      "|         | 'T_2', 'T_1']]                                                         | 'A_2', 'A_5']]                                                         |\n",
      "+---------+------------------------------------------------------------------------+------------------------------------------------------------------------+\n"
     ]
    }
   ],
   "source": [
    "tab = texttable.Texttable()\n",
    "\n",
    "headings = ['score', 'teams (labels)', 'assets (labels)']\n",
    "tab.header(headings)\n",
    "\n",
    "Ntasks = [4, 6, 8]\n",
    "Nvalues = [3, 5, 7]\n",
    "\n",
    "Hfunc = np.random.rand(len(Helicopters))\n",
    "\n",
    "for nt in Ntasks:\n",
    "    for nv in Nvalues:\n",
    "        # generate demand\n",
    "        demand = asset_demand(nassets, nt, nv, teamsize)\n",
    "        # generate staff available\n",
    "        staff = staff_available(nv)\n",
    "        # form allocatable teams \n",
    "        teams, left = demand_staff_assign(demand, staff, nv)\n",
    "        # allocate teams \n",
    "        Patterns = daily_teams_allocation(Helicopters, Hfunc, teams)\n",
    "        # find highest value patterns\n",
    "        maxV_patterns, SV = max_value_patterns(Patterns)\n",
    "        # find smallest number of used helicopters patterns\n",
    "        minH_patterns, SH = least_helicopters_patterns(maxV_patterns)\n",
    "        # find largest allocated teams patterns\n",
    "        maxN_patterns, SN = most_teams_patterns(minH_patterns)\n",
    "        # find most efficient asset location disposition patterns\n",
    "        maxA_patterns, SA = similar_destinations_patterns(maxN_patterns)\n",
    "        # find highest flying probability patterns\n",
    "        maxP_patterns, SP = max_probability_patterns(maxA_patterns)\n",
    "\n",
    "        # extract data of optimal pattern\n",
    "        H = maxP_patterns['H'][0]\n",
    "        T = maxP_patterns['T'][0]\n",
    "        A = maxP_patterns['A'][0]\n",
    "        \n",
    "        # prune empty lists corresponding to unused helicopters\n",
    "        h = [i for (i,a) in enumerate(T) if a]\n",
    "        H = [Helicopters[j] for j in h]\n",
    "        T = [T[j] for j in h]\n",
    "        A = [A[j] for j in h]\n",
    "\n",
    "        score = SV * SH * SN * SA * SP\n",
    "        tab.add_row([score, T, A])\n",
    "\n",
    "tab.set_cols_align(['c','l','l'])\n",
    "tab.set_cols_width([7,70,70])\n",
    "s = tab.draw()\n",
    "print(s)"
   ]
  },
  {
   "cell_type": "markdown",
   "metadata": {},
   "source": [
    "### Differing selection criteria application\n",
    "\n",
    "Let's test the robustness of the pattern selection functions defined above when applying them in a different (random) order.  \n",
    "\n",
    "First, let's derive a reference pattern"
   ]
  },
  {
   "cell_type": "code",
   "execution_count": 47,
   "metadata": {},
   "outputs": [],
   "source": [
    "# simulate daily assets' demand(s)\n",
    "demand = asset_demand(nassets, ntasks, nvalues, teamsize)\n",
    "# simulate daily available staff\n",
    "staff = staff_available(nvalues)\n",
    "# match demands with staff to create teams\n",
    "Teams, left = demand_staff_assign(demand, staff, nvalues)\n",
    "# simulate daily helicopters functionality\n",
    "Hfunc = np.random.rand(len(Helicopters))\n",
    "# build possible allocation patterns\n",
    "Patterns = daily_teams_allocation(Helicopters, Hfunc, Teams)\n",
    "\n",
    "# rename pattern selection function\n",
    "selection1 = max_value_patterns\n",
    "selection2 = least_helicopters_patterns\n",
    "selection3 = most_teams_patterns\n",
    "selection4 = similar_destinations_patterns\n",
    "selection5 = max_probability_patterns\n",
    "\n",
    "patterns = Patterns\n",
    "patterns, SV = selection1(patterns)\n",
    "patterns, SH = selection2(patterns)\n",
    "patterns, SN = selection3(patterns)\n",
    "patterns, SA = selection4(patterns)\n",
    "patterns, SP = selection5(patterns)\n",
    "\n",
    "AA = patterns['A'][0]\n",
    "TT = patterns['T'][0]\n",
    "\n",
    "h = [i for (i,a) in enumerate(AA) if a]\n",
    "A = [AA[j] for j in h]\n",
    "T = [TT[j] for j in h]\n",
    "\n",
    "score = SV * SH * SN * SA * SP\n",
    "score_ref, T_ref, A_ref = score, T, A"
   ]
  },
  {
   "cell_type": "markdown",
   "metadata": {},
   "source": [
    "Using the same patterns list - resulting from the allocation phase with the function `demand_staff_assign` -  \n",
    "we repeat the selection process multiple times, shuffling the order of the functions' application at each iteration.  \n",
    "The result should not vary depending on these orderings"
   ]
  },
  {
   "cell_type": "code",
   "execution_count": 48,
   "metadata": {},
   "outputs": [
    {
     "name": "stdout",
     "output_type": "stream",
     "text": [
      "Reference\n",
      "+-------+----------------------------------------------------------------------------------+----------------------------------------------------------------------------------+\n",
      "| Score |                                  teams (labels)                                  |                                 assets (labels)                                  |\n",
      "+=======+==================================================================================+==================================================================================+\n",
      "| 0.195 | [['T_9', 'T_8', 'T_7', 'T_6', 'T_5', 'T_4', 'T_3'], ['T_2', 'T_1']]              | [['A_5', 'A_7', 'A_9', 'A_5', 'A_2', 'A_4', 'A_4'], ['A_6', 'A_8']]              |\n",
      "+-------+----------------------------------------------------------------------------------+----------------------------------------------------------------------------------+\n",
      "\n",
      "pattern selection shufflings\n",
      "+-------+----------------------------------------------------------------------------------+----------------------------------------------------------------------------------+\n",
      "| score |                                  teams (labels)                                  |                                 assets (labels)                                  |\n",
      "+=======+==================================================================================+==================================================================================+\n",
      "| 0.195 | [['T_9', 'T_8', 'T_7', 'T_6', 'T_5', 'T_4', 'T_3'], ['T_2', 'T_1']]              | [['A_5', 'A_7', 'A_9', 'A_5', 'A_2', 'A_4', 'A_4'], ['A_6', 'A_8']]              |\n",
      "+-------+----------------------------------------------------------------------------------+----------------------------------------------------------------------------------+\n",
      "| 0.195 | [['T_9', 'T_8', 'T_7', 'T_6', 'T_5', 'T_4', 'T_3'], ['T_2', 'T_1']]              | [['A_5', 'A_7', 'A_9', 'A_5', 'A_2', 'A_4', 'A_4'], ['A_6', 'A_8']]              |\n",
      "+-------+----------------------------------------------------------------------------------+----------------------------------------------------------------------------------+\n",
      "| 0.195 | [['T_9', 'T_8', 'T_7', 'T_6', 'T_5', 'T_4', 'T_3'], ['T_2', 'T_1']]              | [['A_5', 'A_7', 'A_9', 'A_5', 'A_2', 'A_4', 'A_4'], ['A_6', 'A_8']]              |\n",
      "+-------+----------------------------------------------------------------------------------+----------------------------------------------------------------------------------+\n",
      "| 0.195 | [['T_9', 'T_8', 'T_7', 'T_6', 'T_5', 'T_4', 'T_3'], ['T_2', 'T_1']]              | [['A_5', 'A_7', 'A_9', 'A_5', 'A_2', 'A_4', 'A_4'], ['A_6', 'A_8']]              |\n",
      "+-------+----------------------------------------------------------------------------------+----------------------------------------------------------------------------------+\n",
      "| 0.195 | [['T_9', 'T_8', 'T_7', 'T_6', 'T_5', 'T_4', 'T_3'], ['T_2', 'T_1']]              | [['A_5', 'A_7', 'A_9', 'A_5', 'A_2', 'A_4', 'A_4'], ['A_6', 'A_8']]              |\n",
      "+-------+----------------------------------------------------------------------------------+----------------------------------------------------------------------------------+\n",
      "| 0.195 | [['T_9', 'T_8', 'T_7', 'T_6', 'T_5', 'T_4', 'T_3'], ['T_2', 'T_1']]              | [['A_5', 'A_7', 'A_9', 'A_5', 'A_2', 'A_4', 'A_4'], ['A_6', 'A_8']]              |\n",
      "+-------+----------------------------------------------------------------------------------+----------------------------------------------------------------------------------+\n",
      "| 0.195 | [['T_9', 'T_8', 'T_7', 'T_6', 'T_5', 'T_4', 'T_3'], ['T_2', 'T_1']]              | [['A_5', 'A_7', 'A_9', 'A_5', 'A_2', 'A_4', 'A_4'], ['A_6', 'A_8']]              |\n",
      "+-------+----------------------------------------------------------------------------------+----------------------------------------------------------------------------------+\n",
      "| 0.195 | [['T_9', 'T_8', 'T_7', 'T_6', 'T_5', 'T_4', 'T_3'], ['T_2', 'T_1']]              | [['A_5', 'A_7', 'A_9', 'A_5', 'A_2', 'A_4', 'A_4'], ['A_6', 'A_8']]              |\n",
      "+-------+----------------------------------------------------------------------------------+----------------------------------------------------------------------------------+\n",
      "| 0.195 | [['T_9', 'T_8', 'T_7', 'T_6', 'T_5', 'T_4', 'T_3'], ['T_2', 'T_1']]              | [['A_5', 'A_7', 'A_9', 'A_5', 'A_2', 'A_4', 'A_4'], ['A_6', 'A_8']]              |\n",
      "+-------+----------------------------------------------------------------------------------+----------------------------------------------------------------------------------+\n",
      "| 0.195 | [['T_9', 'T_8', 'T_7', 'T_6', 'T_5', 'T_4', 'T_3'], ['T_2', 'T_1']]              | [['A_5', 'A_7', 'A_9', 'A_5', 'A_2', 'A_4', 'A_4'], ['A_6', 'A_8']]              |\n",
      "+-------+----------------------------------------------------------------------------------+----------------------------------------------------------------------------------+\n"
     ]
    }
   ],
   "source": [
    "tab1 = texttable.Texttable()\n",
    "\n",
    "headings = ['Score', 'teams (labels)', 'assets (labels)']\n",
    "tab1.header(headings)\n",
    "\n",
    "tab1.add_row([score_ref, T_ref, A_ref])\n",
    "\n",
    "tab1.set_cols_align(['c','l','l'])\n",
    "tab1.set_cols_width([5,80,80])\n",
    "s = tab1.draw()\n",
    "print('Reference')\n",
    "print(s)\n",
    "print()\n",
    "\n",
    "tab2 = texttable.Texttable()\n",
    "\n",
    "headings = ['score', 'teams (labels)', 'assets (labels)']\n",
    "tab2.header(headings)\n",
    "\n",
    "selections = np.arange(5)\n",
    "scores = ['SV', 'SH', 'SN', 'SA', 'SP']\n",
    "\n",
    "iterations = 10\n",
    "patterns = Patterns\n",
    "for it in range(iterations):\n",
    "\n",
    "    for sel in selections:\n",
    "        exec('patterns,{} = selection{}(patterns)'.format(scores[sel], sel+1))\n",
    "    \n",
    "    # extract data of optimal pattern\n",
    "    AA = patterns['A'][0]\n",
    "    TT = patterns['T'][0]\n",
    "    \n",
    "    h = [i for (i,a) in enumerate(AA) if a]\n",
    "    A = [AA[j] for j in h]\n",
    "    T = [TT[j] for j in h]\n",
    "    \n",
    "    score = SV * SH * SN * SA * SP\n",
    "    tab2.add_row([score, T, A])\n",
    "    \n",
    "    shuffle(selections)\n",
    "\n",
    "tab2.set_cols_align(['c','l','l'])\n",
    "tab2.set_cols_width([5,80,80])\n",
    "s = tab2.draw()\n",
    "print('pattern selection shufflings')\n",
    "print(s)"
   ]
  },
  {
   "cell_type": "markdown",
   "metadata": {},
   "source": [
    "This shows that the result of the method is independent of the application order  \n",
    "of the optimal pattern selection functions"
   ]
  }
 ],
 "metadata": {
  "kernelspec": {
   "display_name": "Python 3",
   "language": "python",
   "name": "python3"
  },
  "language_info": {
   "codemirror_mode": {
    "name": "ipython",
    "version": 3
   },
   "file_extension": ".py",
   "mimetype": "text/x-python",
   "name": "python",
   "nbconvert_exporter": "python",
   "pygments_lexer": "ipython3",
   "version": "3.7.3"
  }
 },
 "nbformat": 4,
 "nbformat_minor": 4
}
